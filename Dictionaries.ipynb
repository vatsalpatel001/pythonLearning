{
 "cells": [
  {
   "cell_type": "markdown",
   "metadata": {},
   "source": [
    "# Dictionaries in Python\n",
    "\n",
    "A dictionary is an unordered collection of key-value pairs in Python. Dictionaries are useful for storing and retrieving data based on keys rather than positions.\n",
    "\n",
    "In this notebook, we'll explore the basics of dictionaries, their properties, and how to use them effectively in Python."
   ]
  },
  {
   "cell_type": "markdown",
   "metadata": {},
   "source": [
    "## Creating Dictionaries\n",
    "\n",
    "Dictionaries are created using curly braces `{}` and consist of key-value pairs separated by colons. Here are some ways to create dictionaries:\n",
    "\n",
    "```python\n",
    "# Creating dictionaries\n",
    "empty_dict = {}\n",
    "my_dict = {'name': 'John', 'age': 30, 'city': 'New York'}\n",
    "mixed_dict = {'name': 'Alice', 42: 'answer'}\n"
   ]
  },
  {
   "cell_type": "markdown",
   "metadata": {},
   "source": [
    "## Accessing and Modifying Dictionary Elements\n",
    "\n",
    "You can access dictionary values using keys and modify them as well. Some key operations include:\n",
    "\n",
    "- Accessing values with `dictionary[key]`.\n",
    "- Adding new key-value pairs.\n",
    "- Modifying values with `dictionary[key] = new_value`.\n",
    "- Removing key-value pairs with `del dictionary[key]`.\n"
   ]
  },
  {
   "cell_type": "markdown",
   "metadata": {},
   "source": [
    "## Dictionary Methods\n",
    "\n",
    "Dictionaries have useful methods that provide additional functionality:\n",
    "\n",
    "- `get(key, default)`: Returns the value for a given key. If the key doesn't exist, returns the default value.\n",
    "- `keys()`: Returns a list of all keys in the dictionary.\n",
    "- `values()`: Returns a list of all values in the dictionary.\n",
    "- `items()`: Returns a list of tuples representing key-value pairs.\n"
   ]
  },
  {
   "cell_type": "code",
   "execution_count": 5,
   "metadata": {},
   "outputs": [
    {
     "name": "stdout",
     "output_type": "stream",
     "text": [
      "Name: Alice\n",
      "Keys: dict_keys(['name', 'age', 'job'])\n",
      "Values: dict_values(['Alice', 26, 'Engineer'])\n",
      "Items: dict_items([('name', 'Alice'), ('age', 26), ('job', 'Engineer')])\n",
      "Iterating through values:\n",
      "Alice\n",
      "26\n",
      "Engineer\n",
      "Iterating through key-value pairs:\n",
      "name : Alice\n",
      "age : 26\n",
      "job : Engineer\n",
      "\n",
      "Items as a list of tuples: [('name', 'Alice'), ('age', 26), ('job', 'Engineer')]\n"
     ]
    }
   ],
   "source": [
    "# Example dictionary operations\n",
    "person = {'name': 'Alice', 'age': 25, 'city': 'Paris'}\n",
    "\n",
    "# Accessing values\n",
    "name = person['name']\n",
    "print(\"Name:\", name)\n",
    "\n",
    "# Adding a new key-value pair\n",
    "person['job'] = 'Engineer'\n",
    "\n",
    "# Modifying a value\n",
    "person['age'] = 26\n",
    "\n",
    "# Removing a key-value pair\n",
    "del person['city']\n",
    "\n",
    "# Printing keys, values, and items\n",
    "print(\"Keys:\", person.keys())\n",
    "print(\"Values:\", person.values())\n",
    "print(\"Items:\", person.items())\n",
    "\n",
    "\n",
    "\n",
    "# Accessing dictionary values using person.values()\n",
    "values = person.values()\n",
    "\n",
    "# Iterating through the values\n",
    "print(\"Iterating through values:\")\n",
    "for value in values:\n",
    "    print(value)\n",
    "\n",
    "# Accessing dictionary items using person.items()\n",
    "items = person.items()\n",
    "\n",
    "# Iterating through the key-value pairs\n",
    "print(\"Iterating through key-value pairs:\")\n",
    "for key, value in items:\n",
    "    print(key, \":\", value)\n",
    "\n",
    "# Converting items to a list of tuples\n",
    "items_list = list(items)\n",
    "print(\"\\nItems as a list of tuples:\", items_list)"
   ]
  },
  {
   "cell_type": "code",
   "execution_count": null,
   "metadata": {},
   "outputs": [],
   "source": []
  }
 ],
 "metadata": {
  "kernelspec": {
   "display_name": "Python 3",
   "language": "python",
   "name": "python3"
  },
  "language_info": {
   "codemirror_mode": {
    "name": "ipython",
    "version": 3
   },
   "file_extension": ".py",
   "mimetype": "text/x-python",
   "name": "python",
   "nbconvert_exporter": "python",
   "pygments_lexer": "ipython3",
   "version": "3.10.5"
  },
  "orig_nbformat": 4
 },
 "nbformat": 4,
 "nbformat_minor": 2
}
