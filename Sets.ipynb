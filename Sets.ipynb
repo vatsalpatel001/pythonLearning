{
 "cells": [
  {
   "cell_type": "markdown",
   "metadata": {},
   "source": [
    "# Sets in Python\n",
    "\n",
    "A set is an unordered collection of unique elements in Python. Sets are useful for storing and manipulating data when the order is not important, and you want to ensure that each element is unique.\n",
    "\n",
    "In this notebook, we'll explore the basics of sets, their properties, and how to use them in Python.\n"
   ]
  },
  {
   "cell_type": "markdown",
   "metadata": {},
   "source": [
    "## Creating Sets\n",
    "\n",
    "You can create a set by enclosing a comma-separated list of elements in curly braces `{}`. Here are some ways to create sets:\n",
    "\n",
    "```python\n",
    "# Creating sets\n",
    "my_set = {1, 2, 3, 4}\n",
    "empty_set = set()\n",
    "mixed_set = {1, 'hello', 3.14}\n"
   ]
  },
  {
   "cell_type": "markdown",
   "metadata": {},
   "source": [
    "\n",
    "## Basic Set Operations\n",
    "\n",
    "Sets support various operations for manipulation and comparison, such as:\n",
    "\n",
    "- Adding elements with `.add()`.\n",
    "- Removing elements with `.remove()` and `.discard()`.\n",
    "- Union (`|`), intersection (`&`), and difference (`-`) operations.\n",
    "- Checking membership with the `in` keyword.\n"
   ]
  },
  {
   "cell_type": "markdown",
   "metadata": {},
   "source": [
    "## Set Methods\n",
    "\n",
    "Sets have methods that provide additional functionality:\n",
    "\n",
    "- `add(element)`: Adds an element to the set.\n",
    "- `remove(element)`: Removes an element from the set. Raises an error if the element is not found.\n",
    "- `discard(element)`: Removes an element from the set. Does not raise an error if the element is not found.\n",
    "- `union(other_set)`: Returns a new set containing all unique elements from both sets.\n",
    "- `intersection(other_set)`: Returns a new set containing common elements of both sets.\n",
    "- `difference(other_set)`: Returns a new set containing elements in the current set but not in the other set.\n"
   ]
  },
  {
   "cell_type": "code",
   "execution_count": 5,
   "metadata": {},
   "outputs": [
    {
     "name": "stdout",
     "output_type": "stream",
     "text": [
      "9\n",
      "Union: {1, 2, 3, 4, 5}\n",
      "Intersection: {3, 5}\n",
      "Difference: {1, 2}\n"
     ]
    }
   ],
   "source": [
    "# Example set operations\n",
    "set1 = {1, 2, 3}\n",
    "set2 = {3, 4, 5}\n",
    "\n",
    "set1.add(5)\n",
    "set1.add(9)\n",
    "set1.add(8)\n",
    "\n",
    "set1.remove(9)\n",
    "try:\n",
    "    set1.remove(9)\n",
    "except Exception as e:\n",
    "    print(e)\n",
    "\n",
    "set1.discard(8)\n",
    "set1.discard(8)\n",
    "\n",
    "# Union\n",
    "union_result = set1.union(set2)\n",
    "print(\"Union:\", union_result)\n",
    "\n",
    "# Intersection\n",
    "intersection_result = set1.intersection(set2)\n",
    "print(\"Intersection:\", intersection_result)\n",
    "\n",
    "# Difference\n",
    "difference_result = set1.difference(set2)\n",
    "print(\"Difference:\", difference_result)\n"
   ]
  },
  {
   "cell_type": "code",
   "execution_count": null,
   "metadata": {},
   "outputs": [],
   "source": []
  }
 ],
 "metadata": {
  "kernelspec": {
   "display_name": "Python 3",
   "language": "python",
   "name": "python3"
  },
  "language_info": {
   "codemirror_mode": {
    "name": "ipython",
    "version": 3
   },
   "file_extension": ".py",
   "mimetype": "text/x-python",
   "name": "python",
   "nbconvert_exporter": "python",
   "pygments_lexer": "ipython3",
   "version": "3.10.5"
  },
  "orig_nbformat": 4
 },
 "nbformat": 4,
 "nbformat_minor": 2
}
