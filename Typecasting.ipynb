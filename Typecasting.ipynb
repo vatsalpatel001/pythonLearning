{
 "cells": [
  {
   "cell_type": "markdown",
   "metadata": {},
   "source": [
    "# Typecasting in python\n",
    "The conversion of one data type into the other data type is known as type casting in python or type conversion in python.\n",
    "\n",
    "Python supports a wide variety of functions or methods like: int(), float(), str(), ord(), hex(), oct(), tuple(), set(), list(), dict(), etc. for the type casting in python.\n",
    "\n",
    "\n",
    "## Two Types of Typecasting:\n",
    "\n",
    "1. Explicit Conversion (Explicit type casting in python)\n",
    "2. Implicit Conversion (Implicit type casting in python).\n",
    "### Explicit typecasting:\n",
    "The conversion of one data type into another data type, done via developer or programmer's intervention or manually as per the requirement, is known as explicit type conversion. \n",
    "\n",
    "It can be achieved with the help of Python’s built-in type conversion functions such as int(), float(), hex(), oct(), str(), etc .\n",
    "### Example of explicit typecasting:\n",
    "```python\n",
    "string = \"15\"\n",
    "number = 7\n",
    "string_number = int(string) #throws an error if the string is not a valid integer\n",
    "sum= number + string_number\n",
    "print(\"The Sum of both the numbers is: \", sum)\n",
    "```\n",
    "### Output:\n",
    "```\n",
    "The Sum of both the numbers is 22\n",
    "```\n",
    "### Implicit type casting:\n",
    "Data types in Python do not have the same level i.e. ordering of data types is not the same in Python. Some of the data types have higher-order, and some have lower order. While performing any operations on variables with different data types in Python, one of the variable's data types will be changed to the higher data type. According to the level, one data type is converted into other by the Python interpreter itself (automatically). This is called, implicit typecasting in python.\n",
    "\n",
    "Python converts a smaller data type to a higher data type to prevent data loss.\n",
    "### Example of implicit type casting:\n"
   ]
  },
  {
   "cell_type": "code",
   "execution_count": 4,
   "metadata": {},
   "outputs": [
    {
     "name": "stdout",
     "output_type": "stream",
     "text": [
      "<class 'int'>\n",
      "<class 'float'>\n",
      "10.0\n",
      "<class 'float'>\n",
      "<class 'int'>\n"
     ]
    }
   ],
   "source": [
    "# Python automatically converts\n",
    "# a to int\n",
    "a = 7\n",
    "print(type(a))\n",
    " \n",
    "# Python automatically converts b to float\n",
    "b = 3.0\n",
    "print(type(b))\n",
    " \n",
    "# Python automatically converts c to float as it is a float addition\n",
    "c = a + b\n",
    "print(c)\n",
    "print(type(c))\n",
    "print(type(a))"
   ]
  },
  {
   "cell_type": "markdown",
   "metadata": {},
   "source": [
    "# Higher-Order and Lower-Order Data Types in Python\n",
    "\n",
    "In Python, data types can be categorized as higher-order and lower-order data types. These terms are not official Python terminology but are used to describe certain characteristics of data types.\n",
    "\n",
    "## Higher-Order Data Types\n",
    "\n",
    "Higher-order data types are data structures that can hold other data types as their elements. They are more complex and can store a mixture of different types of values.\n",
    "\n",
    "Examples of higher-order data types:\n",
    "- Lists: Can store a collection of various elements, including other lists or objects.\n",
    "- Tuples: Similar to lists but are immutable (cannot be changed after creation).\n",
    "- Sets: Store a collection of unique elements.\n",
    "- Dictionaries: Store key-value pairs, where keys can be any hashable type.\n",
    "- Custom Objects: Classes that can hold various attributes and methods.\n",
    "\n",
    "## Lower-Order Data Types\n",
    "\n",
    "Lower-order data types are fundamental data types that hold single values. They are the basic building blocks of higher-order data types.\n",
    "\n",
    "Examples of lower-order data types:\n",
    "- Integers: Whole numbers, e.g., 42.\n",
    "- Strings: Sequences of characters, e.g., \"Hello, world!\".\n",
    "- Booleans: Represent either True or False.\n",
    "- None: Represents the absence of a value.\n",
    "\n",
    "In the next cell, we'll provide code examples to illustrate these concepts.\n"
   ]
  },
  {
   "cell_type": "code",
   "execution_count": 5,
   "metadata": {},
   "outputs": [],
   "source": [
    "# Examples of higher-order data types\n",
    "my_list = [1, 'hello', [2, 3]]\n",
    "my_dict = {'name': 'John', 'age': 30, 'address': {'city': 'New York', 'state': 'NY'}}\n",
    "\n",
    "# Examples of lower-order data types\n",
    "my_int = 42\n",
    "my_string = \"Hello, world!\"\n",
    "my_bool = True\n"
   ]
  },
  {
   "cell_type": "markdown",
   "metadata": {},
   "source": [
    "## Common Type Casting Functions\n",
    "\n",
    "- `int()`: Convert to an integer.\n",
    "- `float()`: Convert to a floating-point number.\n",
    "- `str()`: Convert to a string.\n",
    "- `list()`: Convert to a list.\n",
    "- `tuple()`: Convert to a tuple.\n",
    "\n",
    "\n"
   ]
  },
  {
   "cell_type": "code",
   "execution_count": 6,
   "metadata": {},
   "outputs": [
    {
     "name": "stdout",
     "output_type": "stream",
     "text": [
      "Converted to integer: 10\n",
      "Converted to float: 5.0\n",
      "Converted to string: 42\n",
      "Converted to list: [1, 2, 3]\n",
      "Converted to tuple: (4, 5, 6)\n"
     ]
    }
   ],
   "source": [
    "# Type casting examples\n",
    "# Converting to integer\n",
    "float_num = 10.5\n",
    "int_num = int(float_num)\n",
    "print(\"Converted to integer:\", int_num)\n",
    "\n",
    "# Converting to floating-point\n",
    "int_num = 5\n",
    "float_num = float(int_num)\n",
    "print(\"Converted to float:\", float_num)\n",
    "\n",
    "# Converting to string\n",
    "number = 42\n",
    "number_str = str(number)\n",
    "print(\"Converted to string:\", number_str)\n",
    "\n",
    "# Converting to list\n",
    "tuple_data = (1, 2, 3)\n",
    "list_data = list(tuple_data)\n",
    "print(\"Converted to list:\", list_data)\n",
    "\n",
    "# Converting to tuple\n",
    "list_data = [4, 5, 6]\n",
    "tuple_data = tuple(list_data)\n",
    "print(\"Converted to tuple:\", tuple_data)\n"
   ]
  },
  {
   "cell_type": "markdown",
   "metadata": {},
   "source": []
  }
 ],
 "metadata": {
  "kernelspec": {
   "display_name": "Python 3",
   "language": "python",
   "name": "python3"
  },
  "language_info": {
   "codemirror_mode": {
    "name": "ipython",
    "version": 3
   },
   "file_extension": ".py",
   "mimetype": "text/x-python",
   "name": "python",
   "nbconvert_exporter": "python",
   "pygments_lexer": "ipython3",
   "version": "3.10.5"
  },
  "orig_nbformat": 4
 },
 "nbformat": 4,
 "nbformat_minor": 2
}
