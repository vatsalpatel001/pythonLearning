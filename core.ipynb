{
 "cells": [
  {
   "cell_type": "markdown",
   "metadata": {},
   "source": [
    "## Jupyter Notebook\n",
    "### An .ipynb file, also known as a Jupyter Notebook file\n",
    "- Jupyter Notebook allows you to create interactive computational environments \n",
    "- It combine code (Python, R, Julia, etc.), rich text, equations, visualizations, and more.\n",
    "- The .ipynb file will be loaded as a notebook with cells which can contain code, Markdown text, or raw text.\n",
    "- You can execute the code cells by selecting them and clicking the \"Run\" button or by using the keyboard shortcut Shift+Enter.\n",
    "- The keyboard shortcut `B` for a new cell below or `A` for a new cell above the selected cell.\n",
    "- To delete a cell, use the keyboard shortcut `D` twice.\n",
    "- Execute the code in a .ipynb file in an interactive manner"
   ]
  },
  {
   "cell_type": "markdown",
   "metadata": {},
   "source": [
    "## Markdown - markup language\n",
    "### Markdown is a lightweight markup language commonly used for formatting text on the web. It allows you to easily style and structure your content without using complex HTML tags.\n",
    "\n",
    "Here are some key syntax elements in Markdown:\n",
    "\n",
    "1. Headings: Precede a line with one to six hash (#) symbols to create headings, with one hash indicating the largest heading and six indicating the smallest.\n",
    "\n",
    "   Example:\n",
    "   ```\n",
    "   # Heading 1\n",
    "   ## Heading 2\n",
    "   ### Heading 3\n",
    "   ```\n",
    "\n",
    "2. Emphasis: Surround text with asterisks (*) or underscores (_) to make it italic, or with double asterisks (**) or double underscores (__) to make it bold.\n",
    "\n",
    "   Example:\n",
    "   ```\n",
    "   *italic*\n",
    "   _italic_\n",
    "   **bold**\n",
    "   __bold__\n",
    "   ```\n",
    "\n",
    "3. Lists: Create unordered lists by starting each line with a hyphen (-), plus sign (+), or asterisk (*), or ordered lists by starting each line with a number followed by a period.\n",
    "\n",
    "   Example:\n",
    "   ```\n",
    "   - Item 1\n",
    "   - Item 2\n",
    "     - Subitem 1\n",
    "     - Subitem 2\n",
    "   ```\n",
    "\n",
    "4. Links: Enclose the display text in square brackets and the URL in parentheses to create clickable links.\n",
    "\n",
    "   Example:\n",
    "   ```\n",
    "   [Google](https://www.google.com)\n",
    "   ```\n",
    "\n",
    "5. Images: Similar to links, but with an exclamation mark (!) at the beginning. You can also add an optional alt text inside square brackets.\n",
    "\n",
    "   Example:\n",
    "   ```\n",
    "   ![Alt Text](https://example.com/image.jpg)\n",
    "   ```\n",
    "\n",
    "6. Code Blocks: Start a line with three backticks (```) to create a code block. You can optionally specify the programming language for syntax highlighting.\n",
    "\n",
    "   Example:\n",
    "   \\```python\n",
    "   def hello_world():\n",
    "       print(\"Hello, World!\")\n",
    "   \\```\n",
    "\n",
    "7. Inline Code: Surround code or variable names with backticks (`) to format them inline.\n",
    "\n",
    "   Example:\n",
    "   ```\n",
    "   Use the `print()` function to display output.\n",
    "   ```\n"
   ]
  },
  {
   "cell_type": "markdown",
   "metadata": {},
   "source": [
    "## *args and **kwargs \n",
    "### In Python, *args and **kwargs are special syntax used in function definitions to handle a variable number of arguments.\n",
    "\n",
    "1. *args:\n",
    "   - The *args syntax is used when you want to pass a variable number of non-keyworded arguments to a function.\n",
    "   - The asterisk (*) before the parameter name (*args) allows you to pass any number of arguments to the function.\n",
    "   - Inside the function, the arguments passed using *args are treated as a tuple, which can be accessed and iterated over.\n",
    "   - It is conventionally named `args`, but you can choose any name you like.\n",
    "   - Example:\n",
    "     ```python\n",
    "     def my_function(*args):\n",
    "         for arg in args:\n",
    "             print(arg)\n",
    "\n",
    "     my_function(1, 2, 3)  # Output: 1 2 3\n",
    "     my_function('a', 'b', 'c')  # Output: a b c\n",
    "     ```\n",
    "\n",
    "2. **kwargs:\n",
    "   - The **kwargs syntax is used when you want to pass a variable number of keyword arguments to a function.\n",
    "   - The double asterisks (**) before the parameter name (**kwargs) allows you to pass any number of keyword arguments to the function.\n",
    "   - Inside the function, the keyword arguments passed using **kwargs are treated as a dictionary, which can be accessed and manipulated.\n",
    "   - It is conventionally named `kwargs`, but you can choose any name you like.\n",
    "   - Example:\n",
    "     ```python\n",
    "     def my_function(**kwargs):\n",
    "         for key, value in kwargs.items():\n",
    "             print(key, value)\n",
    "\n",
    "     my_function(name='John', age=25)  # Output: name John, age 25\n",
    "     my_function(city='New York', country='USA')  # Output: city New York, country USA\n",
    "     ```\n",
    "\n",
    "Note: You can use both *args and **kwargs in the same function definition, but the order should be *args followed by **kwargs. This allows the function to accept both non-keyworded and keyworded arguments simultaneously."
   ]
  },
  {
   "cell_type": "code",
   "execution_count": 9,
   "metadata": {},
   "outputs": [
    {
     "name": "stdout",
     "output_type": "stream",
     "text": [
      "1\n",
      "2\n",
      "3\n",
      "a\n",
      "b\n",
      "c\n",
      "R\n"
     ]
    }
   ],
   "source": [
    "def my_function(*args):\n",
    "         for arg in args:\n",
    "             print(arg)\n",
    "\n",
    "my_function(1, 2, 3)  # Output: 1 2 3\n",
    "my_function('a', 'b', 'c','R')  # Output: a b c"
   ]
  },
  {
   "cell_type": "code",
   "execution_count": 10,
   "metadata": {},
   "outputs": [
    {
     "name": "stdout",
     "output_type": "stream",
     "text": [
      "name John\n",
      "age 25\n",
      "city New York\n",
      "country USA\n"
     ]
    }
   ],
   "source": [
    "def my_function(**kwargs):\n",
    "    for key, value in kwargs.items():\n",
    "        print(key, value)\n",
    "\n",
    "my_function(name='John', age=25)  # Output: name John, age 25\n",
    "my_function(city='New York', country='USA')  # Output: city New York, country USA"
   ]
  },
  {
   "cell_type": "code",
   "execution_count": 14,
   "metadata": {},
   "outputs": [
    {
     "ename": "SyntaxError",
     "evalue": "arguments cannot follow var-keyword argument (2417440679.py, line 6)",
     "output_type": "error",
     "traceback": [
      "\u001b[1;36m  Cell \u001b[1;32mIn[14], line 6\u001b[1;36m\u001b[0m\n\u001b[1;33m    def my_function1(**kwargs,*args):\u001b[0m\n\u001b[1;37m                              ^\u001b[0m\n\u001b[1;31mSyntaxError\u001b[0m\u001b[1;31m:\u001b[0m arguments cannot follow var-keyword argument\n"
     ]
    }
   ],
   "source": [
    "def my_function(*args, **kwargs):\n",
    "    for arg in args:\n",
    "        print(arg)\n",
    "    for key, value in kwargs.items():\n",
    "        print(key, value)\n",
    "def my_function1(**kwargs,*args):\n",
    "    for arg in args:\n",
    "        print(arg)\n",
    "    for key, value in kwargs.items():\n",
    "        print(key, value)\n",
    "my_function(1, 2, 3, name='John', age=25)\n",
    "my_function(1, 2, 3, name='John', age=25)\n",
    "# Output:\n",
    "# 1\n",
    "# 2\n",
    "# 3\n",
    "# name John\n",
    "# age 25\n"
   ]
  },
  {
   "cell_type": "markdown",
   "metadata": {},
   "source": [
    "### The order is important when both **kwargs and *args are used in a function signature.\n",
    "<h2 style=\"color:red\"> my_function1(**kwargs,*args), the order is incorrect. The correct order would be def my_function1(*args, **kwargs). </h2>\n",
    "- This means that the function can accept any number of positional arguments, which will be stored in a tuple called args, followed by any number of keyword arguments, which will be stored in a dictionary called kwargs."
   ]
  },
  {
   "cell_type": "markdown",
   "metadata": {},
   "source": [
    "## Decorator\n",
    "### In Python, a decorator is a special function that takes another function as an input and extends its functionality without modifying the original function's code. Decorators allow you to add extra features or behaviors to existing functions dynamically.\n",
    "\n",
    "To define a decorator, you can use the `@` symbol followed by the decorator function's name above the function that you want to enhance. Here's an example to illustrate how decorators work:\n",
    "\n",
    "```python\n",
    "def decorator_function(original_function):\n",
    "    def wrapper_function(*args, **kwargs):\n",
    "        # Code to be executed before the original function\n",
    "        print(\"Decorator: Before executing the function\")\n",
    "\n",
    "        # Call the original function\n",
    "        result = original_function(*args, **kwargs)\n",
    "\n",
    "        # Code to be executed after the original function\n",
    "        print(\"Decorator: After executing the function\")\n",
    "\n",
    "        # Return the result of the original function\n",
    "        return result\n",
    "\n",
    "    # Return the wrapper function\n",
    "    return wrapper_function\n",
    "\n",
    "\n",
    "@decorator_function\n",
    "def greet(name):\n",
    "    print(f\"Hello, {name}!\")\n",
    "\n",
    "# Call the decorated function\n",
    "greet(\"John\")\n",
    "```\n",
    "\n",
    "In the above example, we define a decorator function called `decorator_function`, which takes the original function as its argument. Inside the decorator, we define a wrapper function that invokes the original function. The wrapper function can contain additional code that executes before and after the original function is called.\n",
    "\n",
    "In the above example, the `decorator_function` simply adds print statements before and after calling the original function. When we apply the `@decorator_function` decorator to the `greet` function, the `greet` function gets enhanced with the additional functionality defined in the decorator.\n",
    "\n",
    "When we call `greet(\"John\")`, the output will be:\n",
    "```\n",
    "Decorator: Before executing the function\n",
    "Hello, John!\n",
    "Decorator: After executing the function\n",
    "```\n",
    "\n",
    "This example demonstrates a basic decorator. However, decorators can have more complex logic and can be used for various purposes, such as logging, timing, authentication, caching, etc."
   ]
  },
  {
   "cell_type": "markdown",
   "metadata": {},
   "source": [
    "## `try-except` block \n",
    "### In Python, the `try-except` block is used to handle exceptions and prevent your program from crashing when an error occurs. It allows you to catch and handle specific types of exceptions that may occur during the execution of your code.\n",
    "\n",
    "Here is the general syntax of a `try-except` block:\n",
    "\n",
    "```python\n",
    "try:\n",
    "    # Code that may raise an exception\n",
    "    # ...\n",
    "except ExceptionType1:\n",
    "    # Code to handle ExceptionType1\n",
    "    # ...\n",
    "except ExceptionType2:\n",
    "    # Code to handle ExceptionType2\n",
    "    # ...\n",
    "else:\n",
    "    # Code to execute if no exception occurred\n",
    "    # ...\n",
    "finally:\n",
    "    # Code that always executes, regardless of whether an exception occurred or not\n",
    "    # ...\n",
    "```\n",
    "\n",
    "Let's break down the different parts of the `try-except` block:\n",
    "\n",
    "- The `try` block contains the code that may raise an exception. It is mandatory and must be followed by at least one `except` or `finally` block.\n",
    "- The `except` block follows the `try` block and specifies the type of exception(s) that it can handle. You can have multiple `except` blocks to handle different exception types. If any exception of the specified type occurs in the `try` block, it will be caught and the code inside the respective `except` block will be executed.\n",
    "- The `else` block is optional and is executed only if no exception occurred in the `try` block. It is typically used for code that should run when no exceptions are raised.\n",
    "- The `finally` block is also optional and is always executed, regardless of whether an exception occurred or not. It is generally used for code that should be executed for cleanup or resource release purposes.\n",
    "\n",
    "Here is an example to illustrate the usage of `try-except`:\n",
    "\n",
    "```python\n",
    "try:\n",
    "    x = 10 / 0  # This will throw a ZeroDivisionError\n",
    "    print(\"This line will not be executed if an exception occurs\")\n",
    "except ZeroDivisionError:\n",
    "    print(\"An exception occurred: Division by zero\")\n",
    "else:\n",
    "    print(\"No exception occurred, this line will be executed\")\n",
    "finally:\n",
    "    print(\"This line will always be executed\")\n",
    "```\n",
    "\n",
    "In this example, the `ZeroDivisionError` exception is caught by the `except` block and the corresponding message is printed. The `else` block is skipped because an exception occurred, and the `finally` block is always executed, printing the final message.\n",
    "\n",
    "By using `try-except` blocks, you can handle and recover from exceptions gracefully, improving the overall robustness and stability of your program."
   ]
  },
  {
   "cell_type": "code",
   "execution_count": 16,
   "metadata": {},
   "outputs": [
    {
     "ename": "ZeroDivisionError",
     "evalue": "division by zero",
     "output_type": "error",
     "traceback": [
      "\u001b[1;31m---------------------------------------------------------------------------\u001b[0m",
      "\u001b[1;31mZeroDivisionError\u001b[0m                         Traceback (most recent call last)",
      "Cell \u001b[1;32mIn[16], line 1\u001b[0m\n\u001b[1;32m----> 1\u001b[0m j\u001b[39m=\u001b[39m\u001b[39m5\u001b[39;49m\u001b[39m/\u001b[39;49m\u001b[39m0\u001b[39;49m\n",
      "\u001b[1;31mZeroDivisionError\u001b[0m: division by zero"
     ]
    }
   ],
   "source": [
    "j=5/0"
   ]
  },
  {
   "cell_type": "markdown",
   "metadata": {},
   "source": [
    "If you don't know the specific exception type you are dealing with, you can catch the generic exception class `Exception`. Here's an example of how you can print the error message when catching an unknown exception:\n",
    "\n",
    "```python\n",
    "try:\n",
    "    # Your code that might raise an exception goes here\n",
    "    # ...\n",
    "except Exception as e:\n",
    "    print(\"An error occurred:\", e)\n",
    "```\n",
    "\n",
    "In this case, any exception that occurs within the `try` block will be caught and handled by the `except` block. The exception object is assigned to the variable `e`, and you can print its error message using `print(\"An error occurred:\", e)`.\n",
    "\n",
    "Remember that catching a generic exception like this should be used sparingly, as it can make it harder to determine the specific cause of the error and could potentially mask other potential issues. It's generally recommended to catch specific exceptions whenever possible."
   ]
  },
  {
   "cell_type": "code",
   "execution_count": 18,
   "metadata": {},
   "outputs": [
    {
     "name": "stdout",
     "output_type": "stream",
     "text": [
      "An error occurred: division by zero\n",
      "done\n"
     ]
    }
   ],
   "source": [
    "try:\n",
    "   x=5/0\n",
    "except Exception as e:\n",
    "    print(\"An error occurred:\", e)\n",
    "finally :\n",
    "    print(\"done\")"
   ]
  },
  {
   "cell_type": "markdown",
   "metadata": {},
   "source": [
    "## Inheritance\n",
    "### Inheritance is a fundamental concept in object-oriented programming that allows you to create new classes by deriving them from existing ones. It provides a way to reuse code from existing classes and define new classes with additional functionality.\n",
    "\n",
    "In Python, there are two types of inheritance: single-level inheritance and multi-level inheritance.\n",
    "\n",
    "1. Single-level Inheritance:\n",
    "Single-level inheritance refers to the scenario where a class inherits properties and methods from a single parent class. It allows the child class to inherit all the attributes and behaviors of the parent class and add or modify them as needed.\n",
    "\n",
    "Here's an example:\n",
    "```python\n",
    "class Parent:\n",
    "    def __init__(self):\n",
    "        self.parent_property = \"I am from the parent class\"\n",
    "    \n",
    "    def parent_method(self):\n",
    "        print(\"This is a method from the parent class\")\n",
    "\n",
    "class Child(Parent):\n",
    "    def __init__(self):\n",
    "        super().__init__()  # Call the parent's __init__ method\n",
    "        self.child_property = \"I am from the child class\"\n",
    "    \n",
    "    def child_method(self):\n",
    "        print(\"This is a method from the child class\")\n",
    "\n",
    "# Creating an object of the child class\n",
    "obj = Child()\n",
    "\n",
    "# Accessing attributes and methods from both parent and child class\n",
    "print(obj.parent_property)  # Output: \"I am from the parent class\"\n",
    "obj.parent_method()  # Output: \"This is a method from the parent class\"\n",
    "print(obj.child_property)  # Output: \"I am from the child class\"\n",
    "obj.child_method()  # Output: \"This is a method from the child class\"\n",
    "```\n",
    "\n",
    "2. Multi-level Inheritance:\n",
    "Multi-level inheritance refers to the scenario where a class inherits from a parent class, and that parent class itself inherits from another parent class. This creates a chain-like structure, allowing the child class to access attributes and methods from multiple levels.\n",
    "\n",
    "Here's an example:\n",
    "```python\n",
    "class Grandparent:\n",
    "    def grandparent_method(self):\n",
    "        print(\"This is a method from the grandparent class\")\n",
    "\n",
    "class Parent(Grandparent):\n",
    "    def parent_method(self):\n",
    "        print(\"This is a method from the parent class\")\n",
    "\n",
    "class Child(Parent):\n",
    "    def child_method(self):\n",
    "        print(\"This is a method from the child class\")\n",
    "\n",
    "# Creating an object of the child class\n",
    "obj = Child()\n",
    "\n",
    "# Accessing attributes and methods from all levels of inheritance\n",
    "obj.grandparent_method()  # Output: \"This is a method from the grandparent class\"\n",
    "obj.parent_method()  # Output: \"This is a method from the parent class\"\n",
    "obj.child_method()  # Output: \"This is a method from the child class\"\n",
    "```\n",
    "\n",
    "In both single-level and multi-level inheritance, the child class can override methods or attributes inherited from the parent class and provide its unique implementation. This allows for flexibility and customization while reusing common functionalities from the parent class."
   ]
  },
  {
   "cell_type": "code",
   "execution_count": 26,
   "metadata": {},
   "outputs": [
    {
     "name": "stdout",
     "output_type": "stream",
     "text": [
      "5\n",
      "5\n",
      "6\n",
      "5\n"
     ]
    }
   ],
   "source": [
    "class Runner():\n",
    "    def __init__(self):\n",
    "        self.a = 5\n",
    "\n",
    "class taker(Runner):\n",
    "    def __init__(self):\n",
    "        super().__init__()\n",
    "\n",
    "obj = taker()\n",
    "car =taker()\n",
    "print(obj.a)\n",
    "print(car.a)\n",
    "obj.a=6\n",
    "print(obj.a)\n",
    "print(car.a)"
   ]
  },
  {
   "cell_type": "markdown",
   "metadata": {},
   "source": [
    "## super()\n",
    "- In Python, super() is a built-in function that is used to call a method from a parent class. It is commonly used in object-oriented programming to allow the child class to inherit and utilize the methods and attributes of the parent class.\n",
    "\n",
    "- The super() function takes two arguments: the first one is the subclass that you are currently in, and the second one is the object instance of that subclass. By calling super().__init__(), you are essentially calling the parent class's __init__() method."
   ]
  },
  {
   "cell_type": "code",
   "execution_count": 37,
   "metadata": {},
   "outputs": [
    {
     "name": "stdout",
     "output_type": "stream",
     "text": [
      "done\n",
      "6\n",
      "6\n",
      "7\n",
      "6\n"
     ]
    }
   ],
   "source": [
    "class Runner5():\n",
    "    def __init__(self):\n",
    "        self.a = 5\n",
    "    def add(self):\n",
    "        return self.a +1\n",
    "\n",
    "class taker1(Runner5):\n",
    "    # def __init__(self):\n",
    "        # super().__init__()\n",
    "    print(\"done\")\n",
    "\n",
    "obj5 = taker1()\n",
    "car5 =taker1()\n",
    "print(obj5.add())\n",
    "print(car5.add())\n",
    "obj5.a=6\n",
    "print(obj5.add())\n",
    "print(car5.add())"
   ]
  },
  {
   "cell_type": "code",
   "execution_count": 35,
   "metadata": {},
   "outputs": [
    {
     "name": "stdout",
     "output_type": "stream",
     "text": [
      "6\n",
      "6\n",
      "7\n",
      "6\n"
     ]
    }
   ],
   "source": [
    "class Runner:\n",
    "    def __init__(self):\n",
    "        self.a = 5\n",
    "\n",
    "    @staticmethod\n",
    "    def add(x):\n",
    "        return x + 1\n",
    "\n",
    "class Taker(Runner):\n",
    "    def __init__(self):\n",
    "        super().__init__()\n",
    "\n",
    "obj = Taker()\n",
    "car = Taker()\n",
    "\n",
    "print(Runner.add(obj.a))\n",
    "print(Runner.add(car.a))\n",
    "\n",
    "obj.a = 6\n",
    "\n",
    "print(Runner.add(obj.a))\n",
    "print(Runner.add(car.a))\n"
   ]
  },
  {
   "cell_type": "markdown",
   "metadata": {},
   "source": [
    "Static and class methods are two types of methods in object-oriented programming.\n",
    "\n",
    "Static methods:\n",
    "\n",
    "Static methods belong to the class itself rather than to a specific instance of the class. They can be called on the class directly, without creating an object of the class.\n",
    "Static methods are defined using the @staticmethod decorator in Python.\n",
    "They are commonly used for utility functions that do not require access to instance-specific data or behavior.\n",
    "Static methods cannot modify the internal state of the class or access instance variables.\n",
    "They are accessible through the class name, like ClassName.static_method()."
   ]
  },
  {
   "cell_type": "markdown",
   "metadata": {},
   "source": [
    "### Access Specifiers/Modifiers\n",
    "- Access specifiers or access modifiers in python programming are used to limit the access of class variables and class methods outside of class while implementing the concepts of inheritance.\n",
    "\n",
    "- Types of access specifiers\n",
    "  - Public access modifier\n",
    "  - Private access modifier\n",
    "  - Protected access modifier"
   ]
  },
  {
   "cell_type": "code",
   "execution_count": 38,
   "metadata": {},
   "outputs": [
    {
     "name": "stdout",
     "output_type": "stream",
     "text": [
      "21\n",
      "Harry\n"
     ]
    }
   ],
   "source": [
    "class Student:\n",
    "    # constructor is defined\n",
    "    def __init__(self, age, name):\n",
    "        self.age = age               # public variable\n",
    "        self.name = name             # public variable\n",
    "\n",
    "obj = Student(21,\"Harry\")\n",
    "print(obj.age)\n",
    "print(obj.name)"
   ]
  },
  {
   "cell_type": "markdown",
   "metadata": {},
   "source": [
    "### All the variables and methods (member functions) in python are by default public. Any instance variable in a class followed by the ‘self’ keyword ie. self.var_name are public accessed.\n"
   ]
  },
  {
   "cell_type": "code",
   "execution_count": 43,
   "metadata": {},
   "outputs": [
    {
     "ename": "AttributeError",
     "evalue": "'Student' object has no attribute '__age'",
     "output_type": "error",
     "traceback": [
      "\u001b[1;31m---------------------------------------------------------------------------\u001b[0m",
      "\u001b[1;31mAttributeError\u001b[0m                            Traceback (most recent call last)",
      "Cell \u001b[1;32mIn[43], line 16\u001b[0m\n\u001b[0;32m     13\u001b[0m obj1 \u001b[39m=\u001b[39m Subject\n\u001b[0;32m     15\u001b[0m \u001b[39m# calling by object of class Student\u001b[39;00m\n\u001b[1;32m---> 16\u001b[0m \u001b[39mprint\u001b[39m(obj\u001b[39m.\u001b[39;49m__age)\n\u001b[0;32m     17\u001b[0m \u001b[39mprint\u001b[39m(obj\u001b[39m.\u001b[39m__funName())\n\u001b[0;32m     19\u001b[0m \u001b[39m# calling by object  of class Subject\u001b[39;00m\n",
      "\u001b[1;31mAttributeError\u001b[0m: 'Student' object has no attribute '__age'"
     ]
    }
   ],
   "source": [
    "class Student: \n",
    "    def __init__(self, age, name): \n",
    "        self.__age = age      # An indication of private variable\n",
    "        \n",
    "        def __funName(self):  # An indication of private function\n",
    "            self.y = 34\n",
    "            print(self.y)\n",
    "\n",
    "class Subject(Student):\n",
    "    pass\n",
    "\n",
    "obj = Student(21,\"Harry\")\n",
    "obj1 = Subject\n",
    "\n",
    "# calling by object of class Student\n",
    "print(obj.__age)\n",
    "print(obj.__funName())\n",
    "\n",
    "# calling by object  of class Subject\n",
    "print(obj1.__age)\n",
    "print(obj1.__funName())"
   ]
  },
  {
   "cell_type": "markdown",
   "metadata": {},
   "source": [
    "### Private members of a class cannot be accessed or inherited outside of class. If we try to access or to inherit the properties of private members to child class (derived class). Then it will show the error."
   ]
  },
  {
   "cell_type": "markdown",
   "metadata": {},
   "source": []
  },
  {
   "cell_type": "markdown",
   "metadata": {},
   "source": [
    "## Name mangling\n",
    "- Name mangling in Python is a technique used to protect class-private and superclass-private attributes from being accidentally overwritten by subclasses.\n",
    "- Names of class-private and superclass-private attributes are transformed by the addition of a single leading underscore and a double leading underscore respectively."
   ]
  },
  {
   "cell_type": "code",
   "execution_count": 44,
   "metadata": {},
   "outputs": [
    {
     "name": "stdout",
     "output_type": "stream",
     "text": [
      "I am a nonmangled attribute\n",
      "I am a mangled attribute\n"
     ]
    }
   ],
   "source": [
    "class MyClass:\n",
    "    def __init__(self):\n",
    "        self._nonmangled_attribute = \"I am a nonmangled attribute\"\n",
    "        self.__mangled_attribute = \"I am a mangled attribute\"\n",
    "\n",
    "my_object = MyClass()\n",
    "\n",
    "print(my_object._nonmangled_attribute) # Output: I am a nonmangled attribute\n",
    "# print(my_object.__mangled_attribute) # Throws an AttributeError\n",
    "print(my_object._MyClass__mangled_attribute) # Output: I am a mangled attribute"
   ]
  },
  {
   "cell_type": "code",
   "execution_count": 45,
   "metadata": {},
   "outputs": [
    {
     "name": "stdout",
     "output_type": "stream",
     "text": [
      "[5, 3, 4, 6]\n",
      "[5, 3, 4, 6]\n"
     ]
    }
   ],
   "source": [
    "list1 = [4,3,4,6]\n",
    "\n",
    "list2 = list1\n",
    "\n",
    "list2[0] = 5\n",
    "\n",
    "print(list1)\n",
    "print(list2)"
   ]
  },
  {
   "cell_type": "markdown",
   "metadata": {},
   "source": []
  }
 ],
 "metadata": {
  "kernelspec": {
   "display_name": "Python 3",
   "language": "python",
   "name": "python3"
  },
  "language_info": {
   "codemirror_mode": {
    "name": "ipython",
    "version": 3
   },
   "file_extension": ".py",
   "mimetype": "text/x-python",
   "name": "python",
   "nbconvert_exporter": "python",
   "pygments_lexer": "ipython3",
   "version": "3.11.4"
  },
  "orig_nbformat": 4
 },
 "nbformat": 4,
 "nbformat_minor": 2
}
