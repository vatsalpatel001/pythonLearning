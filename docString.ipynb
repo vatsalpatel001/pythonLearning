{
 "cells": [
  {
   "cell_type": "markdown",
   "metadata": {},
   "source": [
    "# Docstrings in Python\n",
    "\n",
    "In Python, a docstring is a string literal that occurs as the first statement in a module, function, class, or method definition. It serves as documentation for the object and can be accessed using the `__doc__` attribute.\n",
    "\n",
    "Docstrings are used to provide information about the purpose, usage, and behavior of the code. They help developers understand how to use and interact with various parts of a program.\n",
    "\n",
    "## Example: Function with a Docstring\n",
    "\n",
    "Let's define a function `calculate_square` with a docstring.\n",
    "\n"
   ]
  },
  {
   "cell_type": "code",
   "execution_count": 2,
   "metadata": {},
   "outputs": [
    {
     "name": "stdout",
     "output_type": "stream",
     "text": [
      "\n",
      "    Calculate the square of a given number.\n",
      "\n",
      "    Args:\n",
      "        number (int): The number to calculate the square of.\n",
      "\n",
      "    Returns:\n",
      "        int: The square of the input number.\n",
      "    \n"
     ]
    }
   ],
   "source": [
    "def calculate_square(number):\n",
    "    \"\"\"\n",
    "    Calculate the square of a given number.\n",
    "\n",
    "    Args:\n",
    "        number (int): The number to calculate the square of.\n",
    "\n",
    "    Returns:\n",
    "        int: The square of the input number.\n",
    "    \"\"\"\n",
    "    return number ** 2\n",
    "# Accessing the docstring for the calculate_square function\n",
    "docstring = calculate_square.__doc__\n",
    "print(docstring)"
   ]
  }
 ],
 "metadata": {
  "kernelspec": {
   "display_name": "Python 3",
   "language": "python",
   "name": "python3"
  },
  "language_info": {
   "codemirror_mode": {
    "name": "ipython",
    "version": 3
   },
   "file_extension": ".py",
   "mimetype": "text/x-python",
   "name": "python",
   "nbconvert_exporter": "python",
   "pygments_lexer": "ipython3",
   "version": "3.10.5"
  },
  "orig_nbformat": 4
 },
 "nbformat": 4,
 "nbformat_minor": 2
}
