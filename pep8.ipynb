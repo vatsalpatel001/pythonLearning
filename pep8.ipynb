{
 "cells": [
  {
   "cell_type": "markdown",
   "metadata": {},
   "source": [
    "# PEP 8 Style Guide for Python Code\n",
    "\n",
    "PEP 8 is the official style guide for writing Python code. It provides guidelines on how to format your code to improve its readability and maintainability. Adhering to PEP 8 helps create a consistent and easily understandable codebase.\n",
    "\n",
    "In this notebook, we'll cover some of the important points from PEP 8.\n"
   ]
  },
  {
   "cell_type": "markdown",
   "metadata": {},
   "source": [
    "## Indentation and Whitespace\n",
    "\n",
    "- Use 4 spaces for indentation (not tabs).\n",
    "- Limit lines to a maximum of 79 characters.\n",
    "- Use blank lines to separate functions, classes, and logical sections.\n",
    "- Avoid extraneous whitespace.\n"
   ]
  },
  {
   "cell_type": "markdown",
   "metadata": {},
   "source": [
    "## Naming Conventions\n",
    "\n",
    "- Use lowercase with underscores for variable and function names (snake_case).\n",
    "- Use CapWords (also known as CamelCase) for class names.\n",
    "- Use uppercase for constants.\n"
   ]
  },
  {
   "cell_type": "markdown",
   "metadata": {},
   "source": [
    "## Imports\n",
    "\n",
    "- Import standard library modules first, followed by third-party modules, and then local modules.\n",
    "- Separate imports with a blank line.\n",
    "- Avoid using wildcard imports (`from module import *`).\n"
   ]
  },
  {
   "cell_type": "markdown",
   "metadata": {},
   "source": [
    "## Comments\n",
    "\n",
    "- Use comments to explain non-obvious code.\n",
    "- Keep comments concise and to the point.\n",
    "- Avoid unnecessary comments and commented-out code.\n"
   ]
  },
  {
   "cell_type": "markdown",
   "metadata": {},
   "source": [
    "## Function and Class Definitions\n",
    "\n",
    "- Use two blank lines to separate function and class definitions.\n",
    "- Use descriptive names for functions, classes, and variables.\n",
    "- Add docstrings to explain the purpose and usage of functions and classes.\n"
   ]
  },
  {
   "cell_type": "markdown",
   "metadata": {},
   "source": [
    "## pep8 has been renamed to pycodestyle (GitHub issue #466)\n",
    "- Use of the pep8 tool will be removed in a future release.        \n",
    "- Please install and use `pycodestyle` instead."
   ]
  },
  {
   "cell_type": "code",
   "execution_count": null,
   "metadata": {},
   "outputs": [],
   "source": [
    "pip install pycodestyle"
   ]
  },
  {
   "cell_type": "markdown",
   "metadata": {},
   "source": [
    "pycodestyle your_file.py\n",
    "Replace your_file.py with the actual filename you want to check.\n",
    "\n",
    "Output: The pycodestyle tool will analyze your code and print out any style violations it finds according to the pycodestyle guidelines. Each violation will be accompanied by a description of the issue and the line number where it occurs."
   ]
  }
 ],
 "metadata": {
  "kernelspec": {
   "display_name": "Python 3",
   "language": "python",
   "name": "python3"
  },
  "language_info": {
   "codemirror_mode": {
    "name": "ipython",
    "version": 3
   },
   "file_extension": ".py",
   "mimetype": "text/x-python",
   "name": "python",
   "nbconvert_exporter": "python",
   "pygments_lexer": "ipython3",
   "version": "3.10.5"
  },
  "orig_nbformat": 4
 },
 "nbformat": 4,
 "nbformat_minor": 2
}
